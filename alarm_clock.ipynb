{
 "cells": [
  {
   "cell_type": "markdown",
   "id": "5bd2fa26",
   "metadata": {},
   "source": [
    "# Logic-1 > alarm_clock"
   ]
  },
  {
   "cell_type": "markdown",
   "id": "a1d161f3",
   "metadata": {},
   "source": [
    "Given a day of the week encoded as 0=Sun, 1=Mon, 2=Tue, ...6=Sat, and a boolean indicating if we are on vacation, return a string of the form \"7:00\" indicating when the alarm clock should ring. Weekdays, the alarm should be \"7:00\" and on the weekend it should be \"10:00\". Unless we are on vacation -- then on weekdays it should be \"10:00\" and weekends it should be \"off\".\n",
    "\n",
    "\n",
    "alarm_clock(1, False) → '7:00'\n",
    "\n",
    "alarm_clock(5, False) → '7:00'\n",
    "\n",
    "alarm_clock(0, False) → '10:00'"
   ]
  },
  {
   "cell_type": "code",
   "execution_count": null,
   "id": "1b7779a0",
   "metadata": {},
   "outputs": [],
   "source": [
    "def alarm_clock(day, vacation):\n",
    "  if vacation:\n",
    "    \n",
    "    #for weekdays\n",
    "    if day in [1,2,3,4,5]:\n",
    "      alarm = '10:00'\n",
    "    \n",
    "    #for weekends\n",
    "    else:\n",
    "      alarm = 'off'\n",
    "    \n",
    "  else:\n",
    "    if day in [1,2,3,4,5]:\n",
    "      alarm = '7:00'\n",
    "    else:\n",
    "      alarm = '10:00'\n",
    "  \n",
    "  return alarm"
   ]
  }
 ],
 "metadata": {
  "kernelspec": {
   "display_name": "Python 3 (ipykernel)",
   "language": "python",
   "name": "python3"
  },
  "language_info": {
   "codemirror_mode": {
    "name": "ipython",
    "version": 3
   },
   "file_extension": ".py",
   "mimetype": "text/x-python",
   "name": "python",
   "nbconvert_exporter": "python",
   "pygments_lexer": "ipython3",
   "version": "3.9.12"
  }
 },
 "nbformat": 4,
 "nbformat_minor": 5
}
